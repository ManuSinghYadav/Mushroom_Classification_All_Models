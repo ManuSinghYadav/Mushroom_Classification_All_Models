{
  "cells": [
    {
      "cell_type": "markdown",
      "metadata": {
        "id": "view-in-github",
        "colab_type": "text"
      },
      "source": [
        "<a href=\"https://colab.research.google.com/github/ManuSinghYadav/Mushroom_Classification_All_Models/blob/main/Image_Classification_by_using_VGG_16/Image_classification_by_using_VGG16.ipynb\" target=\"_parent\"><img src=\"https://colab.research.google.com/assets/colab-badge.svg\" alt=\"Open In Colab\"/></a>"
      ]
    },
    {
      "cell_type": "markdown",
      "metadata": {
        "id": "Jut7EpeqlJWE"
      },
      "source": [
        "In this we'll be using one of the pre-trained models of CNN that is **VGG16**. [Here](https://keras.io/api/applications/vgg/#vgg16-function) to learn more."
      ]
    },
    {
      "cell_type": "markdown",
      "source": [
        "###Uploading Image"
      ],
      "metadata": {
        "id": "E8bHkRGegWKV"
      }
    },
    {
      "cell_type": "markdown",
      "source": [
        "Here we'll create a folder \"CNN_Date\" and inside that we'll add one image of a Lhasa dog."
      ],
      "metadata": {
        "id": "rYTvRZJmgbF4"
      }
    },
    {
      "cell_type": "markdown",
      "source": [
        "###Setting up the VGG16 Model"
      ],
      "metadata": {
        "id": "ekBgUCxo3yZv"
      }
    },
    {
      "cell_type": "code",
      "execution_count": 6,
      "metadata": {
        "id": "qPrjil1ck6Qi"
      },
      "outputs": [],
      "source": [
        "import tensorflow as tf"
      ]
    },
    {
      "cell_type": "code",
      "source": [
        "VGG16 = tf.keras.applications.VGG16()"
      ],
      "metadata": {
        "id": "dganM4vJ2Q_R"
      },
      "execution_count": 7,
      "outputs": []
    },
    {
      "cell_type": "markdown",
      "source": [
        "###Making Prediction"
      ],
      "metadata": {
        "id": "c-2ORjGP44Wk"
      }
    },
    {
      "cell_type": "code",
      "source": [
        "import numpy as np\n",
        "from keras.preprocessing import image"
      ],
      "metadata": {
        "id": "vDoO7XxGLcDs"
      },
      "execution_count": 3,
      "outputs": []
    },
    {
      "cell_type": "code",
      "source": [
        "a = '/content/CNN_Data/terrier-g5cb29fa82_640.jpg'\n",
        "test_image = image.load_img(a, target_size = (224, 224))\n",
        "test_image = image.img_to_array(test_image)\n",
        "test_image = np.expand_dims(test_image, axis = 0)\n",
        "result = VGG16.predict(test_image)\n",
        "decoded_predictions = tf.keras.applications.vgg16.decode_predictions(result, top=3)[0]\n",
        "for label in decoded_predictions:\n",
        "  print(label[1])\n"
      ],
      "metadata": {
        "colab": {
          "base_uri": "https://localhost:8080/"
        },
        "id": "C_7_Sag3MSnv",
        "outputId": "5d22cf27-3718-4ac7-c60c-73b9925d916b"
      },
      "execution_count": 10,
      "outputs": [
        {
          "output_type": "stream",
          "name": "stdout",
          "text": [
            "1/1 [==============================] - 1s 786ms/step\n",
            "Lhasa\n",
            "Maltese_dog\n",
            "Shih-Tzu\n"
          ]
        }
      ]
    }
  ],
  "metadata": {
    "colab": {
      "provenance": [],
      "mount_file_id": "1fpKXcNR0xgrhfoV2PM5mu5MqLv1puqUa",
      "authorship_tag": "ABX9TyNHiCSMIB0wP568G30mBoo+",
      "include_colab_link": true
    },
    "kernelspec": {
      "display_name": "Python 3",
      "name": "python3"
    },
    "language_info": {
      "name": "python"
    }
  },
  "nbformat": 4,
  "nbformat_minor": 0
}